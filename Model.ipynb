{
  "nbformat": 4,
  "nbformat_minor": 0,
  "metadata": {
    "colab": {
      "name": "Model.ipynb",
      "provenance": []
    },
    "kernelspec": {
      "name": "python3",
      "display_name": "Python 3"
    },
    "language_info": {
      "name": "python"
    }
  },
  "cells": [
    {
      "cell_type": "markdown",
      "source": [
        "SETUP:"
      ],
      "metadata": {
        "id": "tssqjnVIRMvG"
      }
    },
    {
      "cell_type": "code",
      "source": [
        "! [ -e /content ] && pip install -Uqq fastai\n",
        "from fastai.vision.all import *"
      ],
      "metadata": {
        "colab": {
          "base_uri": "https://localhost:8080/"
        },
        "id": "4yJEUi7zSDnI",
        "outputId": "47e8521c-c0be-49de-c3e7-9f265dc4c53e"
      },
      "execution_count": 2,
      "outputs": [
        {
          "output_type": "stream",
          "name": "stdout",
          "text": [
            "\u001b[K     |████████████████████████████████| 188 kB 5.4 MB/s \n",
            "\u001b[K     |████████████████████████████████| 56 kB 3.8 MB/s \n",
            "\u001b[?25h"
          ]
        }
      ]
    },
    {
      "cell_type": "markdown",
      "source": [
        "If run on colab:\n",
        "upload .pkl file to files and then continue"
      ],
      "metadata": {
        "id": "o3hV1d0NRGFG"
      }
    },
    {
      "cell_type": "code",
      "source": [
        "model = load_learner('.pkl file path')"
      ],
      "metadata": {
        "id": "q7bHaOkgVFhb"
      },
      "execution_count": 8,
      "outputs": []
    },
    {
      "cell_type": "markdown",
      "source": [
        "**SINGLE IMG PREDICTION:**"
      ],
      "metadata": {
        "id": "v3GHKG-UW3uK"
      }
    },
    {
      "cell_type": "code",
      "source": [
        "model.predict('image PATH')"
      ],
      "metadata": {
        "id": "JBOxXmF0Wci7"
      },
      "execution_count": null,
      "outputs": []
    },
    {
      "cell_type": "markdown",
      "source": [
        "**BATCH PREDICTION:**"
      ],
      "metadata": {
        "id": "32ctrtnmWi94"
      }
    },
    {
      "cell_type": "code",
      "source": [
        "eval_data=get_image_files(\"PATH\")"
      ],
      "metadata": {
        "id": "5ZlkYNWcVNtZ"
      },
      "execution_count": null,
      "outputs": []
    },
    {
      "cell_type": "code",
      "source": [
        "test_dl=model.dls.test_dl(eval_data)"
      ],
      "metadata": {
        "id": "XLu9IecAWdXA"
      },
      "execution_count": null,
      "outputs": []
    },
    {
      "cell_type": "code",
      "source": [
        "preds = model.get_preds(dl=test_dl, with_input=True, with_decoded=True)"
      ],
      "metadata": {
        "id": "9-c5a2wVWfqa"
      },
      "execution_count": null,
      "outputs": []
    }
  ]
}