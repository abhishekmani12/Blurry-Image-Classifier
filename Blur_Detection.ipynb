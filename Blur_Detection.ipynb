{
  "nbformat": 4,
  "nbformat_minor": 0,
  "metadata": {
    "colab": {
      "name": "Blur_Detection.ipynb",
      "provenance": []
    },
    "kernelspec": {
      "name": "python3",
      "display_name": "Python 3"
    },
    "language_info": {
      "name": "python"
    },
    "widgets": {
      "application/vnd.jupyter.widget-state+json": {
        "9a2d5548d017476b85f5a6acfd9ea202": {
          "model_module": "@jupyter-widgets/controls",
          "model_name": "HBoxModel",
          "model_module_version": "1.5.0",
          "state": {
            "_dom_classes": [],
            "_model_module": "@jupyter-widgets/controls",
            "_model_module_version": "1.5.0",
            "_model_name": "HBoxModel",
            "_view_count": null,
            "_view_module": "@jupyter-widgets/controls",
            "_view_module_version": "1.5.0",
            "_view_name": "HBoxView",
            "box_style": "",
            "children": [
              "IPY_MODEL_cc99f40a28d14f37b51385e53f2002f3",
              "IPY_MODEL_9c3a465cf24a4b14906c04cabaa251d9",
              "IPY_MODEL_392687bc128f4b8a8fc6f087c518fa6e"
            ],
            "layout": "IPY_MODEL_25651523cd354a0198387ad685f209bb"
          }
        },
        "cc99f40a28d14f37b51385e53f2002f3": {
          "model_module": "@jupyter-widgets/controls",
          "model_name": "HTMLModel",
          "model_module_version": "1.5.0",
          "state": {
            "_dom_classes": [],
            "_model_module": "@jupyter-widgets/controls",
            "_model_module_version": "1.5.0",
            "_model_name": "HTMLModel",
            "_view_count": null,
            "_view_module": "@jupyter-widgets/controls",
            "_view_module_version": "1.5.0",
            "_view_name": "HTMLView",
            "description": "",
            "description_tooltip": null,
            "layout": "IPY_MODEL_13299371aac6410fbb50cd393e080414",
            "placeholder": "​",
            "style": "IPY_MODEL_9eeb1869f45f48cfaa84f9283564b892",
            "value": "100%"
          }
        },
        "9c3a465cf24a4b14906c04cabaa251d9": {
          "model_module": "@jupyter-widgets/controls",
          "model_name": "FloatProgressModel",
          "model_module_version": "1.5.0",
          "state": {
            "_dom_classes": [],
            "_model_module": "@jupyter-widgets/controls",
            "_model_module_version": "1.5.0",
            "_model_name": "FloatProgressModel",
            "_view_count": null,
            "_view_module": "@jupyter-widgets/controls",
            "_view_module_version": "1.5.0",
            "_view_name": "ProgressView",
            "bar_style": "success",
            "description": "",
            "description_tooltip": null,
            "layout": "IPY_MODEL_8cead62b9d104d8bb343325c9b088817",
            "max": 46830571,
            "min": 0,
            "orientation": "horizontal",
            "style": "IPY_MODEL_a0888a3a22fe4031bc3fd09637b4a160",
            "value": 46830571
          }
        },
        "392687bc128f4b8a8fc6f087c518fa6e": {
          "model_module": "@jupyter-widgets/controls",
          "model_name": "HTMLModel",
          "model_module_version": "1.5.0",
          "state": {
            "_dom_classes": [],
            "_model_module": "@jupyter-widgets/controls",
            "_model_module_version": "1.5.0",
            "_model_name": "HTMLModel",
            "_view_count": null,
            "_view_module": "@jupyter-widgets/controls",
            "_view_module_version": "1.5.0",
            "_view_name": "HTMLView",
            "description": "",
            "description_tooltip": null,
            "layout": "IPY_MODEL_d8577753537a41f3902a0d72cb820016",
            "placeholder": "​",
            "style": "IPY_MODEL_0c5159fb07b64a838df5c40f8d955705",
            "value": " 44.7M/44.7M [00:00&lt;00:00, 106MB/s]"
          }
        },
        "25651523cd354a0198387ad685f209bb": {
          "model_module": "@jupyter-widgets/base",
          "model_name": "LayoutModel",
          "model_module_version": "1.2.0",
          "state": {
            "_model_module": "@jupyter-widgets/base",
            "_model_module_version": "1.2.0",
            "_model_name": "LayoutModel",
            "_view_count": null,
            "_view_module": "@jupyter-widgets/base",
            "_view_module_version": "1.2.0",
            "_view_name": "LayoutView",
            "align_content": null,
            "align_items": null,
            "align_self": null,
            "border": null,
            "bottom": null,
            "display": null,
            "flex": null,
            "flex_flow": null,
            "grid_area": null,
            "grid_auto_columns": null,
            "grid_auto_flow": null,
            "grid_auto_rows": null,
            "grid_column": null,
            "grid_gap": null,
            "grid_row": null,
            "grid_template_areas": null,
            "grid_template_columns": null,
            "grid_template_rows": null,
            "height": null,
            "justify_content": null,
            "justify_items": null,
            "left": null,
            "margin": null,
            "max_height": null,
            "max_width": null,
            "min_height": null,
            "min_width": null,
            "object_fit": null,
            "object_position": null,
            "order": null,
            "overflow": null,
            "overflow_x": null,
            "overflow_y": null,
            "padding": null,
            "right": null,
            "top": null,
            "visibility": null,
            "width": null
          }
        },
        "13299371aac6410fbb50cd393e080414": {
          "model_module": "@jupyter-widgets/base",
          "model_name": "LayoutModel",
          "model_module_version": "1.2.0",
          "state": {
            "_model_module": "@jupyter-widgets/base",
            "_model_module_version": "1.2.0",
            "_model_name": "LayoutModel",
            "_view_count": null,
            "_view_module": "@jupyter-widgets/base",
            "_view_module_version": "1.2.0",
            "_view_name": "LayoutView",
            "align_content": null,
            "align_items": null,
            "align_self": null,
            "border": null,
            "bottom": null,
            "display": null,
            "flex": null,
            "flex_flow": null,
            "grid_area": null,
            "grid_auto_columns": null,
            "grid_auto_flow": null,
            "grid_auto_rows": null,
            "grid_column": null,
            "grid_gap": null,
            "grid_row": null,
            "grid_template_areas": null,
            "grid_template_columns": null,
            "grid_template_rows": null,
            "height": null,
            "justify_content": null,
            "justify_items": null,
            "left": null,
            "margin": null,
            "max_height": null,
            "max_width": null,
            "min_height": null,
            "min_width": null,
            "object_fit": null,
            "object_position": null,
            "order": null,
            "overflow": null,
            "overflow_x": null,
            "overflow_y": null,
            "padding": null,
            "right": null,
            "top": null,
            "visibility": null,
            "width": null
          }
        },
        "9eeb1869f45f48cfaa84f9283564b892": {
          "model_module": "@jupyter-widgets/controls",
          "model_name": "DescriptionStyleModel",
          "model_module_version": "1.5.0",
          "state": {
            "_model_module": "@jupyter-widgets/controls",
            "_model_module_version": "1.5.0",
            "_model_name": "DescriptionStyleModel",
            "_view_count": null,
            "_view_module": "@jupyter-widgets/base",
            "_view_module_version": "1.2.0",
            "_view_name": "StyleView",
            "description_width": ""
          }
        },
        "8cead62b9d104d8bb343325c9b088817": {
          "model_module": "@jupyter-widgets/base",
          "model_name": "LayoutModel",
          "model_module_version": "1.2.0",
          "state": {
            "_model_module": "@jupyter-widgets/base",
            "_model_module_version": "1.2.0",
            "_model_name": "LayoutModel",
            "_view_count": null,
            "_view_module": "@jupyter-widgets/base",
            "_view_module_version": "1.2.0",
            "_view_name": "LayoutView",
            "align_content": null,
            "align_items": null,
            "align_self": null,
            "border": null,
            "bottom": null,
            "display": null,
            "flex": null,
            "flex_flow": null,
            "grid_area": null,
            "grid_auto_columns": null,
            "grid_auto_flow": null,
            "grid_auto_rows": null,
            "grid_column": null,
            "grid_gap": null,
            "grid_row": null,
            "grid_template_areas": null,
            "grid_template_columns": null,
            "grid_template_rows": null,
            "height": null,
            "justify_content": null,
            "justify_items": null,
            "left": null,
            "margin": null,
            "max_height": null,
            "max_width": null,
            "min_height": null,
            "min_width": null,
            "object_fit": null,
            "object_position": null,
            "order": null,
            "overflow": null,
            "overflow_x": null,
            "overflow_y": null,
            "padding": null,
            "right": null,
            "top": null,
            "visibility": null,
            "width": null
          }
        },
        "a0888a3a22fe4031bc3fd09637b4a160": {
          "model_module": "@jupyter-widgets/controls",
          "model_name": "ProgressStyleModel",
          "model_module_version": "1.5.0",
          "state": {
            "_model_module": "@jupyter-widgets/controls",
            "_model_module_version": "1.5.0",
            "_model_name": "ProgressStyleModel",
            "_view_count": null,
            "_view_module": "@jupyter-widgets/base",
            "_view_module_version": "1.2.0",
            "_view_name": "StyleView",
            "bar_color": null,
            "description_width": ""
          }
        },
        "d8577753537a41f3902a0d72cb820016": {
          "model_module": "@jupyter-widgets/base",
          "model_name": "LayoutModel",
          "model_module_version": "1.2.0",
          "state": {
            "_model_module": "@jupyter-widgets/base",
            "_model_module_version": "1.2.0",
            "_model_name": "LayoutModel",
            "_view_count": null,
            "_view_module": "@jupyter-widgets/base",
            "_view_module_version": "1.2.0",
            "_view_name": "LayoutView",
            "align_content": null,
            "align_items": null,
            "align_self": null,
            "border": null,
            "bottom": null,
            "display": null,
            "flex": null,
            "flex_flow": null,
            "grid_area": null,
            "grid_auto_columns": null,
            "grid_auto_flow": null,
            "grid_auto_rows": null,
            "grid_column": null,
            "grid_gap": null,
            "grid_row": null,
            "grid_template_areas": null,
            "grid_template_columns": null,
            "grid_template_rows": null,
            "height": null,
            "justify_content": null,
            "justify_items": null,
            "left": null,
            "margin": null,
            "max_height": null,
            "max_width": null,
            "min_height": null,
            "min_width": null,
            "object_fit": null,
            "object_position": null,
            "order": null,
            "overflow": null,
            "overflow_x": null,
            "overflow_y": null,
            "padding": null,
            "right": null,
            "top": null,
            "visibility": null,
            "width": null
          }
        },
        "0c5159fb07b64a838df5c40f8d955705": {
          "model_module": "@jupyter-widgets/controls",
          "model_name": "DescriptionStyleModel",
          "model_module_version": "1.5.0",
          "state": {
            "_model_module": "@jupyter-widgets/controls",
            "_model_module_version": "1.5.0",
            "_model_name": "DescriptionStyleModel",
            "_view_count": null,
            "_view_module": "@jupyter-widgets/base",
            "_view_module_version": "1.2.0",
            "_view_name": "StyleView",
            "description_width": ""
          }
        }
      }
    }
  },
  "cells": [
    {
      "cell_type": "markdown",
      "source": [
        "**Installing fastai**"
      ],
      "metadata": {
        "id": "EOSXpu-8AMkN"
      }
    },
    {
      "cell_type": "code",
      "source": [
        "\n",
        "! [ -e /content ] && pip install -Uqq fastai"
      ],
      "metadata": {
        "colab": {
          "base_uri": "https://localhost:8080/"
        },
        "id": "am-uOtWL-CDY",
        "outputId": "c840f414-1dab-4a72-f824-f79f36b3b659"
      },
      "execution_count": 1,
      "outputs": [
        {
          "output_type": "stream",
          "name": "stdout",
          "text": [
            "\u001b[K     |████████████████████████████████| 188 kB 5.1 MB/s \n",
            "\u001b[K     |████████████████████████████████| 56 kB 5.4 MB/s \n",
            "\u001b[?25h"
          ]
        }
      ]
    },
    {
      "cell_type": "markdown",
      "source": [
        "**Imports**"
      ],
      "metadata": {
        "id": "MOdfpbFzARic"
      }
    },
    {
      "cell_type": "code",
      "source": [
        "from fastai.vision.all import *\n",
        "from fastai.vision.widgets import *\n",
        "from fastdownload import download_url"
      ],
      "metadata": {
        "id": "8kNDOC-6BocT"
      },
      "execution_count": 2,
      "outputs": []
    },
    {
      "cell_type": "code",
      "source": [
        "!pip install fastinference"
      ],
      "metadata": {
        "id": "3Rnw5viqI_B-"
      },
      "execution_count": null,
      "outputs": []
    },
    {
      "cell_type": "markdown",
      "source": [
        "Downloading dataset:"
      ],
      "metadata": {
        "id": "CZ5YNFu4AY10"
      }
    },
    {
      "cell_type": "code",
      "execution_count": 9,
      "metadata": {
        "colab": {
          "base_uri": "https://localhost:8080/"
        },
        "id": "t47cHqBa8NCK",
        "outputId": "0eef4459-b261-4a77-cbc9-73f925b32516"
      },
      "outputs": [
        {
          "output_type": "stream",
          "name": "stdout",
          "text": [
            "--2022-04-03 08:44:26--  http://mklab.iti.gr/files/imageblur/CERTH_ImageBlurDataset.zip\n",
            "Resolving mklab.iti.gr (mklab.iti.gr)... 160.40.50.223\n",
            "Connecting to mklab.iti.gr (mklab.iti.gr)|160.40.50.223|:80... connected.\n",
            "HTTP request sent, awaiting response... 301 Moved Permanently\n",
            "Location: https://mklab.iti.gr/files/imageblur/CERTH_ImageBlurDataset.zip [following]\n",
            "--2022-04-03 08:44:26--  https://mklab.iti.gr/files/imageblur/CERTH_ImageBlurDataset.zip\n",
            "Connecting to mklab.iti.gr (mklab.iti.gr)|160.40.50.223|:443... connected.\n",
            "HTTP request sent, awaiting response... 200 OK\n",
            "Length: 4022804823 (3.7G) [application/zip]\n",
            "Saving to: ‘CERTH_ImageBlurDataset.zip.1’\n",
            "\n",
            "CERTH_ImageBlurData 100%[===================>]   3.75G  9.23MB/s    in 5m 32s  \n",
            "\n",
            "utime(CERTH_ImageBlurDataset.zip.1): No such file or directory\n",
            "2022-04-03 08:49:59 (11.5 MB/s) - ‘CERTH_ImageBlurDataset.zip.1’ saved [4022804823/4022804823]\n",
            "\n"
          ]
        }
      ],
      "source": [
        "!wget http://mklab.iti.gr/files/imageblur/CERTH_ImageBlurDataset.zip"
      ]
    },
    {
      "cell_type": "markdown",
      "source": [
        "Unzipping:"
      ],
      "metadata": {
        "id": "bfYfsjJ0AbmA"
      }
    },
    {
      "cell_type": "code",
      "source": [
        "!unzip CERTH_ImageBlurDataset.zip"
      ],
      "metadata": {
        "id": "Yf0boFmG8xCK"
      },
      "execution_count": null,
      "outputs": []
    },
    {
      "cell_type": "code",
      "source": [
        "fns = get_image_files(\"/content/CERTH_ImageBlurDataset/TrainingSet\")"
      ],
      "metadata": {
        "id": "8MWuvGrr8xOk"
      },
      "execution_count": 15,
      "outputs": []
    },
    {
      "cell_type": "code",
      "source": [
        "fns"
      ],
      "metadata": {
        "colab": {
          "base_uri": "https://localhost:8080/"
        },
        "id": "QfC0YOrPEYG-",
        "outputId": "9e915125-fb04-45f4-b7c1-17053c6b137a"
      },
      "execution_count": 16,
      "outputs": [
        {
          "output_type": "execute_result",
          "data": {
            "text/plain": [
              "(#1000) [Path('/content/CERTH_ImageBlurDataset/TrainingSet/Undistorted/DSC05311.JPG'),Path('/content/CERTH_ImageBlurDataset/TrainingSet/Undistorted/P7200570.JPG'),Path('/content/CERTH_ImageBlurDataset/TrainingSet/Undistorted/IMG_20120722_131859.jpg'),Path('/content/CERTH_ImageBlurDataset/TrainingSet/Undistorted/DSC01949.JPG'),Path('/content/CERTH_ImageBlurDataset/TrainingSet/Undistorted/IMG_0544.JPG'),Path('/content/CERTH_ImageBlurDataset/TrainingSet/Undistorted/100_1822.jpg'),Path('/content/CERTH_ImageBlurDataset/TrainingSet/Undistorted/DSC06400.JPG'),Path('/content/CERTH_ImageBlurDataset/TrainingSet/Undistorted/CIMG0278.JPG'),Path('/content/CERTH_ImageBlurDataset/TrainingSet/Undistorted/P1145801.JPG'),Path('/content/CERTH_ImageBlurDataset/TrainingSet/Undistorted/P1012748.JPG')...]"
            ]
          },
          "metadata": {},
          "execution_count": 16
        }
      ]
    },
    {
      "cell_type": "code",
      "source": [
        "len(fns)"
      ],
      "metadata": {
        "colab": {
          "base_uri": "https://localhost:8080/"
        },
        "id": "oURiWH9E8xas",
        "outputId": "10b92584-c5ff-4d06-c2b5-7c460ca1e636"
      },
      "execution_count": 19,
      "outputs": [
        {
          "output_type": "execute_result",
          "data": {
            "text/plain": [
              "1000"
            ]
          },
          "metadata": {},
          "execution_count": 19
        }
      ]
    },
    {
      "cell_type": "code",
      "source": [
        "path=(\"/content/CERTH_ImageBlurDataset/TrainingSet\")"
      ],
      "metadata": {
        "id": "VFQROqqGFtGH"
      },
      "execution_count": 20,
      "outputs": []
    },
    {
      "cell_type": "markdown",
      "source": [
        "**Datablock for configuring dataset**"
      ],
      "metadata": {
        "id": "YdKZiWPhAzz-"
      }
    },
    {
      "cell_type": "code",
      "source": [
        "images=DataBlock(\n",
        "    \n",
        "    blocks=(ImageBlock, CategoryBlock),\n",
        "    get_items=get_image_files,\n",
        "    splitter=RandomSplitter(valid_pct=0.2,seed=42),\n",
        "    get_y=parent_label,\n",
        "    item_tfms=Resize(28)\n",
        ")"
      ],
      "metadata": {
        "id": "Hb2NREXL8xnJ"
      },
      "execution_count": 21,
      "outputs": []
    },
    {
      "cell_type": "markdown",
      "source": [
        "**Converting to Dataloaders with Source for Training model**"
      ],
      "metadata": {
        "id": "HM7UFnjFA4K1"
      }
    },
    {
      "cell_type": "code",
      "source": [
        "dls=images.dataloaders(path)"
      ],
      "metadata": {
        "id": "CjRo5nZp8x0Q"
      },
      "execution_count": 22,
      "outputs": []
    },
    {
      "cell_type": "code",
      "source": [
        "dls.vocab"
      ],
      "metadata": {
        "colab": {
          "base_uri": "https://localhost:8080/"
        },
        "id": "g9T6XlYJ24jG",
        "outputId": "8d3ad171-2436-4271-d72c-e48ec9cfed24"
      },
      "execution_count": 28,
      "outputs": [
        {
          "output_type": "execute_result",
          "data": {
            "text/plain": [
              "['Artificially-Blurred', 'Naturally-Blurred', 'Undistorted']"
            ]
          },
          "metadata": {},
          "execution_count": 28
        }
      ]
    },
    {
      "cell_type": "code",
      "source": [
        "dls.valid.show_batch(max_n=10,nrows=4)"
      ],
      "metadata": {
        "colab": {
          "base_uri": "https://localhost:8080/",
          "height": 699
        },
        "id": "8UQx5-8cF4-p",
        "outputId": "57e8a3cd-6608-48d8-df1c-0bdb46cf9610"
      },
      "execution_count": 23,
      "outputs": [
        {
          "output_type": "display_data",
          "data": {
            "text/plain": [
              "<Figure size 648x864 with 12 Axes>"
            ],
            "image/png": "[encoded data removed]"
          },
          "metadata": {
            "needs_background": "light"
          }
        }
      ]
    },
    {
      "cell_type": "markdown",
      "source": [
        "**Augmentation and Transformation:**"
      ],
      "metadata": {
        "id": "qeItOhuXBT6k"
      }
    },
    {
      "cell_type": "code",
      "source": [
        "images = images.new(\n",
        "    item_tfms=RandomResizedCrop(224, min_scale=0.5),\n",
        "    batch_tfms=aug_transforms())\n",
        "dls = images.dataloaders(path)"
      ],
      "metadata": {
        "id": "50PY9y5IC1AO"
      },
      "execution_count": 24,
      "outputs": []
    },
    {
      "cell_type": "markdown",
      "source": [
        "**Creating and training CNN model with resnet18**"
      ],
      "metadata": {
        "id": "jguxCKAbBgYi"
      }
    },
    {
      "cell_type": "code",
      "source": [
        "model = cnn_learner(dls, resnet18, metrics=[accuracy])\n",
        "model.fine_tune(4)"
      ],
      "metadata": {
        "colab": {
          "base_uri": "https://localhost:8080/",
          "height": 288,
          "referenced_widgets": [
            "9a2d5548d017476b85f5a6acfd9ea202",
            "cc99f40a28d14f37b51385e53f2002f3",
            "9c3a465cf24a4b14906c04cabaa251d9",
            "392687bc128f4b8a8fc6f087c518fa6e",
            "25651523cd354a0198387ad685f209bb",
            "13299371aac6410fbb50cd393e080414",
            "9eeb1869f45f48cfaa84f9283564b892",
            "8cead62b9d104d8bb343325c9b088817",
            "a0888a3a22fe4031bc3fd09637b4a160",
            "d8577753537a41f3902a0d72cb820016",
            "0c5159fb07b64a838df5c40f8d955705"
          ]
        },
        "id": "IhtIKB8MC06z",
        "outputId": "42d6b126-4b95-436c-945c-45bba9773741"
      },
      "execution_count": 26,
      "outputs": [
        {
          "output_type": "stream",
          "name": "stderr",
          "text": [
            "Downloading: \"https://download.pytorch.org/models/resnet18-f37072fd.pth\" to /root/.cache/torch/hub/checkpoints/resnet18-f37072fd.pth\n"
          ]
        },
        {
          "output_type": "display_data",
          "data": {
            "text/plain": [
              "  0%|          | 0.00/44.7M [00:00<?, ?B/s]"
            ],
            "application/vnd.jupyter.widget-view+json": {
              "version_major": 2,
              "version_minor": 0,
              "model_id": "9a2d5548d017476b85f5a6acfd9ea202"
            }
          },
          "metadata": {}
        },
        {
          "output_type": "display_data",
          "data": {
            "text/plain": [
              "<IPython.core.display.HTML object>"
            ],
            "text/html": [
              "\n",
              "<style>\n",
              "    /* Turns off some styling */\n",
              "    progress {\n",
              "        /* gets rid of default border in Firefox and Opera. */\n",
              "        border: none;\n",
              "        /* Needs to be in here for Safari polyfill so background images work as expected. */\n",
              "        background-size: auto;\n",
              "    }\n",
              "    .progress-bar-interrupted, .progress-bar-interrupted::-webkit-progress-bar {\n",
              "        background: #F44336;\n",
              "    }\n",
              "</style>\n"
            ]
          },
          "metadata": {}
        },
        {
          "output_type": "display_data",
          "data": {
            "text/plain": [
              "<IPython.core.display.HTML object>"
            ],
            "text/html": [
              "<table border=\"1\" class=\"dataframe\">\n",
              "  <thead>\n",
              "    <tr style=\"text-align: left;\">\n",
              "      <th>epoch</th>\n",
              "      <th>train_loss</th>\n",
              "      <th>valid_loss</th>\n",
              "      <th>accuracy</th>\n",
              "      <th>time</th>\n",
              "    </tr>\n",
              "  </thead>\n",
              "  <tbody>\n",
              "    <tr>\n",
              "      <td>0</td>\n",
              "      <td>1.580787</td>\n",
              "      <td>0.629984</td>\n",
              "      <td>0.765000</td>\n",
              "      <td>04:43</td>\n",
              "    </tr>\n",
              "  </tbody>\n",
              "</table>"
            ]
          },
          "metadata": {}
        },
        {
          "output_type": "display_data",
          "data": {
            "text/plain": [
              "<IPython.core.display.HTML object>"
            ],
            "text/html": [
              "\n",
              "<style>\n",
              "    /* Turns off some styling */\n",
              "    progress {\n",
              "        /* gets rid of default border in Firefox and Opera. */\n",
              "        border: none;\n",
              "        /* Needs to be in here for Safari polyfill so background images work as expected. */\n",
              "        background-size: auto;\n",
              "    }\n",
              "    .progress-bar-interrupted, .progress-bar-interrupted::-webkit-progress-bar {\n",
              "        background: #F44336;\n",
              "    }\n",
              "</style>\n"
            ]
          },
          "metadata": {}
        },
        {
          "output_type": "display_data",
          "data": {
            "text/plain": [
              "<IPython.core.display.HTML object>"
            ],
            "text/html": [
              "<table border=\"1\" class=\"dataframe\">\n",
              "  <thead>\n",
              "    <tr style=\"text-align: left;\">\n",
              "      <th>epoch</th>\n",
              "      <th>train_loss</th>\n",
              "      <th>valid_loss</th>\n",
              "      <th>accuracy</th>\n",
              "      <th>time</th>\n",
              "    </tr>\n",
              "  </thead>\n",
              "  <tbody>\n",
              "    <tr>\n",
              "      <td>0</td>\n",
              "      <td>0.985041</td>\n",
              "      <td>0.449080</td>\n",
              "      <td>0.830000</td>\n",
              "      <td>05:37</td>\n",
              "    </tr>\n",
              "    <tr>\n",
              "      <td>1</td>\n",
              "      <td>0.858140</td>\n",
              "      <td>0.460678</td>\n",
              "      <td>0.865000</td>\n",
              "      <td>05:26</td>\n",
              "    </tr>\n",
              "    <tr>\n",
              "      <td>2</td>\n",
              "      <td>0.683227</td>\n",
              "      <td>0.399178</td>\n",
              "      <td>0.870000</td>\n",
              "      <td>05:31</td>\n",
              "    </tr>\n",
              "    <tr>\n",
              "      <td>3</td>\n",
              "      <td>0.567770</td>\n",
              "      <td>0.409048</td>\n",
              "      <td>0.875000</td>\n",
              "      <td>05:26</td>\n",
              "    </tr>\n",
              "  </tbody>\n",
              "</table>"
            ]
          },
          "metadata": {}
        }
      ]
    },
    {
      "cell_type": "markdown",
      "source": [
        "**Accuracy=87.5% on testing data**\n",
        "\n",
        "**Valid_loss<train_loss hence model avoids overfitting**"
      ],
      "metadata": {
        "id": "vuxa7DmtCMXa"
      }
    },
    {
      "cell_type": "markdown",
      "source": [
        "**Confusion Matrix for Interpretation:**"
      ],
      "metadata": {
        "id": "uKcjJ6ooB-rX"
      }
    },
    {
      "cell_type": "code",
      "source": [
        "pret = ClassificationInterpretation.from_learner(model)\n",
        "pret.plot_confusion_matrix()"
      ],
      "metadata": {
        "colab": {
          "base_uri": "https://localhost:8080/",
          "height": 311
        },
        "id": "DKEruV1LC038",
        "outputId": "d6b8b53b-825b-456c-df45-d7c4729c45c5"
      },
      "execution_count": 27,
      "outputs": [
        {
          "output_type": "display_data",
          "data": {
            "text/plain": [
              "<IPython.core.display.HTML object>"
            ],
            "text/html": [
              "\n",
              "<style>\n",
              "    /* Turns off some styling */\n",
              "    progress {\n",
              "        /* gets rid of default border in Firefox and Opera. */\n",
              "        border: none;\n",
              "        /* Needs to be in here for Safari polyfill so background images work as expected. */\n",
              "        background-size: auto;\n",
              "    }\n",
              "    .progress-bar-interrupted, .progress-bar-interrupted::-webkit-progress-bar {\n",
              "        background: #F44336;\n",
              "    }\n",
              "</style>\n"
            ]
          },
          "metadata": {}
        },
        {
          "output_type": "display_data",
          "data": {
            "text/plain": [
              "<IPython.core.display.HTML object>"
            ],
            "text/html": [
              ""
            ]
          },
          "metadata": {}
        },
        {
          "output_type": "display_data",
          "data": {
            "text/plain": [
              "<IPython.core.display.HTML object>"
            ],
            "text/html": [
              "\n",
              "<style>\n",
              "    /* Turns off some styling */\n",
              "    progress {\n",
              "        /* gets rid of default border in Firefox and Opera. */\n",
              "        border: none;\n",
              "        /* Needs to be in here for Safari polyfill so background images work as expected. */\n",
              "        background-size: auto;\n",
              "    }\n",
              "    .progress-bar-interrupted, .progress-bar-interrupted::-webkit-progress-bar {\n",
              "        background: #F44336;\n",
              "    }\n",
              "</style>\n"
            ]
          },
          "metadata": {}
        },
        {
          "output_type": "display_data",
          "data": {
            "text/plain": [
              "<IPython.core.display.HTML object>"
            ],
            "text/html": [
              ""
            ]
          },
          "metadata": {}
        },
        {
          "output_type": "display_data",
          "data": {
            "text/plain": [
              "<Figure size 432x288 with 1 Axes>"
            ],
            "image/png": "[encoded data removed]"
          },
          "metadata": {
            "needs_background": "light"
          }
        }
      ]
    },
    {
      "cell_type": "markdown",
      "source": [
        "**Analysis of learning rate**"
      ],
      "metadata": {
        "id": "58SIgDS_DHaB"
      }
    },
    {
      "cell_type": "code",
      "source": [
        "lr_min,lr_steep = model.lr_find(suggest_funcs=(minimum, steep))"
      ],
      "metadata": {
        "colab": {
          "base_uri": "https://localhost:8080/",
          "height": 283
        },
        "id": "5hUzVSozC01H",
        "outputId": "7322c020-2a2b-45ff-a53f-836ee7674bc4"
      },
      "execution_count": 29,
      "outputs": [
        {
          "output_type": "display_data",
          "data": {
            "text/plain": [
              "<IPython.core.display.HTML object>"
            ],
            "text/html": [
              "\n",
              "<style>\n",
              "    /* Turns off some styling */\n",
              "    progress {\n",
              "        /* gets rid of default border in Firefox and Opera. */\n",
              "        border: none;\n",
              "        /* Needs to be in here for Safari polyfill so background images work as expected. */\n",
              "        background-size: auto;\n",
              "    }\n",
              "    .progress-bar-interrupted, .progress-bar-interrupted::-webkit-progress-bar {\n",
              "        background: #F44336;\n",
              "    }\n",
              "</style>\n"
            ]
          },
          "metadata": {}
        },
        {
          "output_type": "display_data",
          "data": {
            "text/plain": [
              "<IPython.core.display.HTML object>"
            ],
            "text/html": [
              ""
            ]
          },
          "metadata": {}
        },
        {
          "output_type": "display_data",
          "data": {
            "text/plain": [
              "<Figure size 432x288 with 1 Axes>"
            ],
            "image/png": "[encoded data removed]"
          },
          "metadata": {
            "needs_background": "light"
          }
        }
      ]
    },
    {
      "cell_type": "markdown",
      "source": [
        "**Pickling**"
      ],
      "metadata": {
        "id": "SRZlJM8wCI4i"
      }
    },
    {
      "cell_type": "code",
      "source": [
        "model.export()"
      ],
      "metadata": {
        "id": "eZY-6a5xEP5S"
      },
      "execution_count": 30,
      "outputs": []
    },
    {
      "cell_type": "code",
      "source": [
        "path1=Path()\n",
        "path1.ls(file_exts ='.pkl')"
      ],
      "metadata": {
        "colab": {
          "base_uri": "https://localhost:8080/"
        },
        "id": "IxlaeR3_Ro0o",
        "outputId": "4595b5c0-b476-43dd-8d95-321c6f719efa"
      },
      "execution_count": 31,
      "outputs": [
        {
          "output_type": "execute_result",
          "data": {
            "text/plain": [
              "(#1) [Path('export.pkl')]"
            ]
          },
          "metadata": {},
          "execution_count": 31
        }
      ]
    },
    {
      "cell_type": "markdown",
      "source": [
        "**Prediction on Evaluation data**"
      ],
      "metadata": {
        "id": "FoayLvcuDQJK"
      }
    },
    {
      "cell_type": "code",
      "source": [
        "eval_data=get_image_files(\"/content/CERTH_ImageBlurDataset/EvaluationSet\")"
      ],
      "metadata": {
        "id": "5DmJ4HqCSMSc"
      },
      "execution_count": 32,
      "outputs": []
    },
    {
      "cell_type": "code",
      "source": [
        "test_dl=model.dls.test_dl(eval_data)"
      ],
      "metadata": {
        "id": "lJa0JDqFDijY"
      },
      "execution_count": 33,
      "outputs": []
    },
    {
      "cell_type": "code",
      "source": [
        "preds = model.get_preds(dl=test_dl, with_input=True, with_decoded=True)"
      ],
      "metadata": {
        "colab": {
          "base_uri": "https://localhost:8080/",
          "height": 17
        },
        "id": "RxS-kwPxDihT",
        "outputId": "4d117913-2525-4065-b0d7-a722fed542b5"
      },
      "execution_count": 39,
      "outputs": [
        {
          "output_type": "display_data",
          "data": {
            "text/plain": [
              "<IPython.core.display.HTML object>"
            ],
            "text/html": [
              "\n",
              "<style>\n",
              "    /* Turns off some styling */\n",
              "    progress {\n",
              "        /* gets rid of default border in Firefox and Opera. */\n",
              "        border: none;\n",
              "        /* Needs to be in here for Safari polyfill so background images work as expected. */\n",
              "        background-size: auto;\n",
              "    }\n",
              "    .progress-bar-interrupted, .progress-bar-interrupted::-webkit-progress-bar {\n",
              "        background: #F44336;\n",
              "    }\n",
              "</style>\n"
            ]
          },
          "metadata": {}
        },
        {
          "output_type": "display_data",
          "data": {
            "text/plain": [
              "<IPython.core.display.HTML object>"
            ],
            "text/html": [
              ""
            ]
          },
          "metadata": {}
        }
      ]
    },
    {
      "cell_type": "markdown",
      "source": [
        "Prediction consisting of the probabilities of the prediction of each class for each image."
      ],
      "metadata": {
        "id": "3j1I__JZM00H"
      }
    },
    {
      "cell_type": "code",
      "source": [
        "preds"
      ],
      "metadata": {
        "colab": {
          "base_uri": "https://localhost:8080/"
        },
        "id": "iSZIY2EDKJvZ",
        "outputId": "36d2b1f8-5101-4ffc-cebb-e8e9fafd9d29"
      },
      "execution_count": 42,
      "outputs": [
        {
          "output_type": "execute_result",
          "data": {
            "text/plain": [
              "(TensorImage([[[[ 0.7248,  0.7248,  0.7077,  ..., -0.5424,  0.3652,  0.4508],\n",
              "           [ 0.7248,  0.7419,  0.7077,  ..., -0.7822,  0.2111,  0.3481],\n",
              "           [ 0.7419,  0.7419,  0.7248,  ..., -0.8849,  0.0912,  0.2453],\n",
              "           ...,\n",
              "           [ 1.0331,  0.9988,  0.9817,  ...,  0.6906,  0.7077,  0.7248],\n",
              "           [ 1.0673,  1.0502,  0.9988,  ...,  0.7077,  0.7248,  0.7419],\n",
              "           [ 1.0502,  1.0502,  1.0331,  ...,  0.6563,  0.6734,  0.6906]],\n",
              " \n",
              "          [[ 0.6954,  0.6954,  0.5728,  ..., -0.5826, -0.0049,  0.0301],\n",
              "           [ 0.7129,  0.6954,  0.6078,  ..., -0.7227, -0.0574, -0.0399],\n",
              "           [ 0.7129,  0.7129,  0.6253,  ..., -0.8102, -0.1099, -0.1275],\n",
              "           ...,\n",
              "           [-0.4601, -0.5126, -0.5301,  ...,  0.9055,  0.9405,  0.9580],\n",
              "           [-0.4251, -0.4601, -0.4951,  ...,  0.9405,  0.9230,  0.9580],\n",
              "           [-0.4426, -0.4601, -0.4601,  ...,  0.8880,  0.8880,  0.9055]],\n",
              " \n",
              "          [[ 0.3393,  0.3568,  0.2173,  ..., -0.6367, -0.3055, -0.3230],\n",
              "           [ 0.3393,  0.3742,  0.2522,  ..., -0.7064, -0.2707, -0.3578],\n",
              "           [ 0.3568,  0.3742,  0.2871,  ..., -0.8110, -0.3055, -0.3927],\n",
              "           ...,\n",
              "           [-1.3513, -1.3687, -1.4036,  ...,  0.2522,  0.3219,  0.3393],\n",
              "           [-1.2990, -1.3513, -1.3861,  ...,  0.2696,  0.3219,  0.3393],\n",
              "           [-1.3513, -1.3513, -1.3513,  ...,  0.2173,  0.2696,  0.2522]]],\n",
              " \n",
              " \n",
              "         [[[ 0.5536,  0.5878,  0.6563,  ..., -0.7993, -0.7822, -0.7993],\n",
              "           [ 0.6049,  0.6906,  0.6563,  ..., -0.7993, -0.7993, -0.7993],\n",
              "           [ 0.6049,  0.7419,  0.6906,  ..., -0.7822, -0.8164, -0.7822],\n",
              "           ...,\n",
              "           [-1.3302, -1.3302, -1.2959,  ...,  1.2899,  1.0844,  0.7933],\n",
              "           [-1.3302, -1.3130, -1.2788,  ...,  1.3927,  1.2043,  0.9303],\n",
              "           [-1.3302, -1.3302, -1.3302,  ...,  1.4269,  1.3070,  1.1358]],\n",
              " \n",
              "          [[ 0.6429,  0.7129,  0.8529,  ..., -1.5455, -1.5805, -1.5805],\n",
              "           [ 0.7654,  0.8004,  0.8529,  ..., -1.5280, -1.5280, -1.5455],\n",
              "           [ 0.7829,  0.8704,  0.8354,  ..., -1.5105, -1.4930, -1.4930],\n",
              "           ...,\n",
              "           [-1.1429, -1.1254, -1.0903,  ...,  1.0630,  0.7829,  0.5203],\n",
              "           [-1.1253, -1.1253, -1.0903,  ...,  1.1856,  0.9230,  0.6779],\n",
              "           [-1.1253, -1.1078, -1.1078,  ...,  1.2556,  1.0630,  0.8880]],\n",
              " \n",
              "          [[ 1.1411,  1.1934,  1.3851,  ..., -1.1073, -1.1596, -1.1944],\n",
              "           [ 1.2282,  1.2805,  1.3502,  ..., -1.1596, -1.1944, -1.1770],\n",
              "           [ 1.2631,  1.3502,  1.3328,  ..., -1.1596, -1.1944, -1.1770],\n",
              "           ...,\n",
              "           [-0.4973, -0.5495, -0.5495,  ...,  1.0539,  0.8099,  0.5834],\n",
              "           [-0.5147, -0.5670, -0.5495,  ...,  1.1411,  0.9494,  0.6879],\n",
              "           [-0.5321, -0.5495, -0.5670,  ...,  1.2108,  1.0539,  0.9145]]],\n",
              " \n",
              " \n",
              "         [[[-0.3198, -0.3198, -0.2171,  ...,  0.3481,  0.3481,  0.3481],\n",
              "           [-0.1486, -0.0629,  0.2796,  ...,  0.3652,  0.3652,  0.3652],\n",
              "           [ 0.4337,  0.5022,  1.2214,  ...,  0.3652,  0.3652,  0.3652],\n",
              "           ...,\n",
              "           [-0.7308, -0.8164, -0.7308,  ...,  1.8208,  1.4440,  0.8447],\n",
              "           [-0.7137, -0.5424, -0.6965,  ...,  1.1358,  0.8276,  0.5193],\n",
              "           [-0.7650, -0.6452, -0.6452,  ..., -0.1486, -0.2171, -0.3883]],\n",
              " \n",
              "          [[ 0.9755,  0.9930,  0.9930,  ...,  1.6232,  1.6232,  1.6232],\n",
              "           [ 0.9405,  0.9230,  0.7829,  ...,  1.6408,  1.6408,  1.6232],\n",
              "           [ 0.7129,  0.6779,  1.2556,  ...,  1.6583,  1.6408,  1.6232],\n",
              "           ...,\n",
              "           [-0.8627, -0.8978, -0.8102,  ...,  1.8158,  1.3606,  0.7479],\n",
              "           [-0.8452, -0.5826, -0.7752,  ...,  1.2381,  0.9755,  0.5903],\n",
              "           [-0.8978, -0.6352, -0.6877,  ..., -0.2325, -0.3725, -0.5476]],\n",
              " \n",
              "          [[ 2.6400,  2.6400,  2.5529,  ...,  2.6400,  2.6400,  2.6400],\n",
              "           [ 2.4134,  2.2566,  1.5420,  ...,  2.6400,  2.6400,  2.6400],\n",
              "           [ 1.1585,  1.0191,  1.2631,  ...,  2.6400,  2.6400,  2.6400],\n",
              "           ...,\n",
              "           [-0.7413, -0.7587, -0.7064,  ...,  1.7685,  1.3328,  0.7751],\n",
              "           [-0.7064, -0.4798, -0.6890,  ...,  1.4897,  1.3677,  0.9668],\n",
              "           [-0.7064, -0.3927, -0.4973,  ...,  0.0605, -0.0790, -0.3230]]],\n",
              " \n",
              " \n",
              "         ...,\n",
              " \n",
              " \n",
              "         [[[ 0.1083, -0.0801, -0.0801,  ...,  2.0605,  2.1633,  2.1975],\n",
              "           [ 0.1083, -0.1143, -0.1657,  ...,  2.1119,  2.1804,  2.1975],\n",
              "           [ 0.0912, -0.1486, -0.2684,  ...,  2.1462,  2.1975,  2.1804],\n",
              "           ...,\n",
              "           [ 0.6392,  0.9646,  1.4612,  ..., -0.6109, -0.5767, -0.5767],\n",
              "           [ 0.7077,  0.9988,  1.4098,  ..., -0.6281, -0.6109, -0.6281],\n",
              "           [ 0.8447,  1.0673,  1.2557,  ..., -0.6623, -0.6452, -0.6623]],\n",
              " \n",
              "          [[-0.1099, -0.2850, -0.2850,  ...,  1.4307,  1.6408,  1.8333],\n",
              "           [-0.1099, -0.3025, -0.3550,  ...,  1.4832,  1.6758,  1.8859],\n",
              "           [-0.1099, -0.3375, -0.4776,  ...,  1.5357,  1.7283,  1.9559],\n",
              "           ...,\n",
              "           [ 0.0301,  0.4503,  1.0630,  ..., -0.4601, -0.4426, -0.4601],\n",
              "           [ 0.1352,  0.5028,  1.0280,  ..., -0.4951, -0.4776, -0.4951],\n",
              "           [ 0.3452,  0.5728,  0.8179,  ..., -0.5301, -0.5126, -0.5301]],\n",
              " \n",
              "          [[ 0.1651, -0.1312, -0.1661,  ...,  1.1585,  1.2805,  1.3851],\n",
              "           [ 0.1651, -0.1835, -0.2707,  ...,  1.2108,  1.3328,  1.4200],\n",
              "           [ 0.1302, -0.2532, -0.4101,  ...,  1.2631,  1.3677,  1.4548],\n",
              "           ...,\n",
              "           [-0.1487,  0.2696,  0.9319,  ..., -0.2358, -0.2010, -0.1661],\n",
              "           [-0.0267,  0.3045,  0.8448,  ..., -0.2358, -0.2010, -0.2010],\n",
              "           [ 0.1476,  0.3393,  0.6008,  ..., -0.2707, -0.2358, -0.2358]]],\n",
              " \n",
              " \n",
              "         [[[-1.6727, -1.6898, -1.6727,  ..., -1.3815, -1.3815, -1.4500],\n",
              "           [-1.6727, -1.6384, -1.6727,  ..., -1.3987, -1.3644, -1.4672],\n",
              "           [-1.7412, -1.7240, -1.6898,  ..., -1.3987, -1.4843, -1.4672],\n",
              "           ...,\n",
              "           [-1.9809, -1.9980, -1.9980,  ...,  0.7591,  0.8961,  0.8789],\n",
              "           [-1.8782, -1.9124, -1.9638,  ...,  0.8447,  0.9646,  0.9303],\n",
              "           [-1.7925, -1.8953, -1.9638,  ...,  0.6563,  0.7419,  0.7248]],\n",
              " \n",
              "          [[-1.4055, -1.4405, -1.4230,  ..., -1.7556, -1.7381, -1.8081],\n",
              "           [-1.4405, -1.4055, -1.4405,  ..., -1.7731, -1.7206, -1.8256],\n",
              "           [-1.4930, -1.4755, -1.4405,  ..., -1.7556, -1.8431, -1.8256],\n",
              "           ...,\n",
              "           [-1.8606, -1.8782, -1.8782,  ..., -1.7206, -1.5805, -1.3880],\n",
              "           [-1.7206, -1.7731, -1.8431,  ..., -1.6856, -1.5805, -1.3354],\n",
              "           [-1.5280, -1.7206, -1.8431,  ..., -1.6155, -1.6506, -1.5105]],\n",
              " \n",
              "          [[-1.2990, -1.3339, -1.2816,  ..., -1.4559, -1.4559, -1.5430],\n",
              "           [-1.2990, -1.2990, -1.3164,  ..., -1.4907, -1.4384, -1.5430],\n",
              "           [-1.3687, -1.3513, -1.3164,  ..., -1.4733, -1.5430, -1.5430],\n",
              "           ...,\n",
              "           [-1.6476, -1.6650, -1.6650,  ..., -1.3687, -1.1770, -0.9853],\n",
              "           [-1.5604, -1.5779, -1.6302,  ..., -1.2990, -1.2467, -0.9504],\n",
              "           [-1.4384, -1.5604, -1.6302,  ..., -1.2467, -1.2990, -1.1073]]],\n",
              " \n",
              " \n",
              "         [[[ 0.4679,  0.4337,  0.4337,  ...,  0.5022,  0.4337,  0.4166],\n",
              "           [ 0.4337,  0.3994,  0.3994,  ...,  0.4508,  0.3823,  0.3481],\n",
              "           [ 0.3994,  0.3652,  0.3481,  ...,  0.4166,  0.3823,  0.3481],\n",
              "           ...,\n",
              "           [-0.5253, -0.3027, -0.1143,  ..., -0.1486, -0.0801,  0.0056],\n",
              "           [-0.4397, -0.2513, -0.1314,  ..., -0.1314, -0.0629,  0.0569],\n",
              "           [-0.4054, -0.2513, -0.1657,  ..., -0.0629, -0.0116,  0.1083]],\n",
              " \n",
              "          [[ 0.5903,  0.5553,  0.5553,  ...,  0.5378,  0.4678,  0.4503],\n",
              "           [ 0.5553,  0.5203,  0.5203,  ...,  0.4853,  0.4153,  0.3978],\n",
              "           [ 0.5203,  0.4853,  0.4678,  ...,  0.4503,  0.4153,  0.3803],\n",
              "           ...,\n",
              "           [-0.5301, -0.2850, -0.0749,  ..., -0.1800, -0.1099, -0.0574],\n",
              "           [-0.4076, -0.2150, -0.0924,  ..., -0.1450, -0.0924, -0.0049],\n",
              "           [-0.3725, -0.2325, -0.1275,  ..., -0.0924, -0.0574,  0.0476]],\n",
              " \n",
              "          [[ 0.9145,  0.8797,  0.8797,  ...,  0.8274,  0.7576,  0.7402],\n",
              "           [ 0.8797,  0.8448,  0.8448,  ...,  0.7751,  0.7054,  0.6879],\n",
              "           [ 0.8448,  0.8099,  0.7925,  ...,  0.7054,  0.6879,  0.6531],\n",
              "           ...,\n",
              "           [-0.3578, -0.0964,  0.0953,  ..., -0.1138, -0.0267,  0.0605],\n",
              "           [-0.2532, -0.0441,  0.0779,  ..., -0.0790,  0.0082,  0.1476],\n",
              "           [-0.2184, -0.0615,  0.0431,  ..., -0.0092,  0.0431,  0.1999]]]]),\n",
              " TensorBase([[4.5570e-02, 9.3029e-01, 2.4138e-02],\n",
              "         [3.4752e-03, 9.4719e-01, 4.9333e-02],\n",
              "         [5.2765e-04, 2.1966e-05, 9.9945e-01],\n",
              "         ...,\n",
              "         [2.7721e-03, 9.9672e-01, 5.0971e-04],\n",
              "         [1.3120e-05, 9.8737e-03, 9.9011e-01],\n",
              "         [3.7223e-01, 6.1742e-01, 1.0354e-02]]),\n",
              " None,\n",
              " TensorBase([1, 1, 2,  ..., 1, 2, 1]))"
            ]
          },
          "metadata": {},
          "execution_count": 42
        }
      ]
    },
    {
      "cell_type": "markdown",
      "source": [
        "Prediction on evaluation data set is done\n",
        "\n",
        "But unable to get accuracy as I'm facing issues and errors in extracting the labels for the data.\n",
        "Hence assuming testing data accuracy for the model."
      ],
      "metadata": {
        "id": "1s4V9HZ7ETCR"
      }
    }
  ]
}